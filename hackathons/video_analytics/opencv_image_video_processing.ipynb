{
 "cells": [
  {
   "cell_type": "markdown",
   "metadata": {
    "colab_type": "text",
    "id": "6UurgScWikF_"
   },
   "source": [
    "# Object Detection \n",
    "\n",
    "In this tutorial, you will learn the basics of object detection, use pre-built models in caffe and tensorflow to find objects from images\n",
    "\n",
    "## Objectives\n",
    "\n",
    "*   Import images and display them\n",
    "*   Play and download videos from youtube \n",
    "*   Extract video information and individual frames\n",
    "\n",
    "\n"
   ]
  },
  {
   "cell_type": "markdown",
   "metadata": {
    "colab_type": "text",
    "id": "EvFivTllKv4j"
   },
   "source": [
    "## Import Python Modules"
   ]
  },
  {
   "cell_type": "code",
   "execution_count": null,
   "metadata": {
    "colab": {},
    "colab_type": "code",
    "id": "G0T3Cf-4JsK_"
   },
   "outputs": [],
   "source": [
    "import cv2\n",
    "import numpy as np\n",
    "from urllib.request import urlopen\n",
    "import matplotlib.pyplot as plt\n",
    "from io import BytesIO\n",
    "import tempfile\n",
    "import time\n",
    "\n",
    "\n",
    "from PIL import Image\n",
    "from PIL import ImageColor\n",
    "from PIL import ImageDraw\n",
    "from PIL import ImageFont\n",
    "from PIL import ImageOps"
   ]
  },
  {
   "cell_type": "code",
   "execution_count": null,
   "metadata": {},
   "outputs": [],
   "source": [
    "def display_image(image):\n",
    "    fig = plt.figure(figsize=(20, 15))\n",
    "    plt.grid(False)\n",
    "    plt.imshow(image)"
   ]
  },
  {
   "cell_type": "code",
   "execution_count": null,
   "metadata": {},
   "outputs": [],
   "source": [
    "def download_and_resize_image(url, new_width=256, new_height=256,\n",
    "                              display=False):\n",
    "    _, filename = tempfile.mkstemp(suffix=\".jpg\")\n",
    "    response = urlopen(url)\n",
    "    image_data = response.read()\n",
    "    image_data = BytesIO(image_data)\n",
    "    pil_image = Image.open(image_data)\n",
    "    pil_image = ImageOps.fit(pil_image, (new_width, new_height), Image.ANTIALIAS)\n",
    "    pil_image_rgb = pil_image.convert(\"RGB\")\n",
    "    pil_image_rgb.save(filename, format=\"JPEG\", quality=90)\n",
    "    print(\"Image downloaded to %s.\" % filename)\n",
    "    if display:\n",
    "        display_image(pil_image)\n",
    "    return filename\n"
   ]
  },
  {
   "cell_type": "code",
   "execution_count": null,
   "metadata": {},
   "outputs": [],
   "source": [
    "image_url = \"https://upload.wikimedia.org/wikipedia/commons/6/60/Naxos_Taverna.jpg\"  #@param\n",
    "downloaded_image_path = download_and_resize_image(image_url, 640, 428, True)"
   ]
  },
  {
   "cell_type": "markdown",
   "metadata": {
    "colab_type": "text",
    "id": "w7H1AAvdfIg1"
   },
   "source": [
    "**Image Procesing and Display**"
   ]
  },
  {
   "cell_type": "code",
   "execution_count": null,
   "metadata": {
    "cellView": "both",
    "colab": {
     "base_uri": "https://localhost:8080/",
     "height": 351
    },
    "colab_type": "code",
    "id": "ACvm8G6_MxGo",
    "outputId": "f24cf5b4-be86-4ebd-cf74-f4b2fc9f768c"
   },
   "outputs": [],
   "source": [
    "image = cv2.imread(downloaded_image_path, cv2.IMREAD_COLOR)\n",
    "gray = cv2.cvtColor(image, cv2.COLOR_BGR2GRAY)\n",
    "(width,height) = gray.shape\n",
    "image = cv2.cvtColor(image, cv2.COLOR_BGR2RGB)\n",
    "plt.imshow(image,extent=[width,height,0,1],aspect='auto')\n",
    "plt.grid(False)\n",
    "plt.axis('off')\n",
    "plt.show()"
   ]
  },
  {
   "cell_type": "markdown",
   "metadata": {},
   "source": [
    "## Play and Download videos from youtube in mp4 format\n",
    "\n",
    "Example: https://www.youtube.com/watch?v=Zbl3n2qQ-iQ\n",
    "\n",
    "```\n",
    "from IPython.lib.display import YouTubeVideo\n",
    "YouTubeVideo('Zbl3n2qQ-iQ')\n",
    "```\n",
    "\n",
    "### Download\n",
    "\n",
    "`youtube-dl -o '%(title)s.%(ext)s' Zbl3n2qQ-iQ --restrict-filenames -f mp4`\n",
    "\n"
   ]
  },
  {
   "cell_type": "code",
   "execution_count": null,
   "metadata": {},
   "outputs": [],
   "source": [
    "from IPython.lib.display import YouTubeVideo\n",
    "YouTubeVideo('Zbl3n2qQ-iQ')"
   ]
  },
  {
   "cell_type": "code",
   "execution_count": null,
   "metadata": {},
   "outputs": [],
   "source": [
    "cap = cv2.VideoCapture('JAMES_BOND_IN_ACTION_007_IN_INDIA.mp4')\n",
    "height = int(cap.get(cv2.CAP_PROP_FRAME_HEIGHT))\n",
    "width = int(cap.get(cv2.CAP_PROP_FRAME_WIDTH))\n",
    "total_frames = int(cap.get(cv2.CAP_PROP_FRAME_COUNT))\n",
    "fps = cap.get(cv2.CAP_PROP_FPS)\n",
    "\n",
    "print(\"Width x Height = %d x %d, Frames = %d, Frames/second = %d\\n\"%(width,height,total_frames,fps))"
   ]
  },
  {
   "cell_type": "code",
   "execution_count": null,
   "metadata": {},
   "outputs": [],
   "source": [
    "cap = cv2.VideoCapture('JAMES_BOND_IN_ACTION_007_IN_INDIA.mp4')\n",
    "for i in range(1,total_frames,20):\n",
    "    cap.set(cv2.CAP_PROP_POS_FRAMES,i)\n",
    "    ret,frame = cap.read()\n",
    "    plt.imshow(frame)\n",
    "    plt.grid(False)\n",
    "    plt.axis('off')\n",
    "    plt.show()"
   ]
  }
 ],
 "metadata": {
  "accelerator": "GPU",
  "colab": {
   "collapsed_sections": [],
   "name": "Copy of object_detection_using_opencv.ipynb",
   "provenance": []
  },
  "kernelspec": {
   "display_name": "Python 3",
   "language": "python",
   "name": "python3"
  },
  "language_info": {
   "codemirror_mode": {
    "name": "ipython",
    "version": 3
   },
   "file_extension": ".py",
   "mimetype": "text/x-python",
   "name": "python",
   "nbconvert_exporter": "python",
   "pygments_lexer": "ipython3",
   "version": "3.7.7"
  }
 },
 "nbformat": 4,
 "nbformat_minor": 4
}
